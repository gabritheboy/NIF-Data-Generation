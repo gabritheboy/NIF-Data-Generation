{
  "nbformat": 4,
  "nbformat_minor": 0,
  "metadata": {
    "colab": {
      "provenance": [],
      "authorship_tag": "ABX9TyNVOf7JbrOUxGY0aZ/fUtWP"
    },
    "kernelspec": {
      "name": "python3",
      "display_name": "Python 3"
    },
    "language_info": {
      "name": "python"
    }
  },
  "cells": [
    {
      "cell_type": "markdown",
      "source": [
        "##Installing and Importing Libraries\n"
      ],
      "metadata": {
        "id": "Pcc7-cwhECgp"
      }
    },
    {
      "cell_type": "code",
      "source": [
        "!pip install faker\n",
        "!pip install pycountry"
      ],
      "metadata": {
        "colab": {
          "base_uri": "https://localhost:8080/"
        },
        "id": "RZpk0c1kX1Q-",
        "outputId": "1045758d-6e29-47c6-d350-edd283c4835f"
      },
      "execution_count": null,
      "outputs": [
        {
          "output_type": "stream",
          "name": "stdout",
          "text": [
            "Collecting faker\n",
            "  Downloading faker-37.1.0-py3-none-any.whl.metadata (15 kB)\n",
            "Requirement already satisfied: tzdata in /usr/local/lib/python3.11/dist-packages (from faker) (2025.1)\n",
            "Downloading faker-37.1.0-py3-none-any.whl (1.9 MB)\n",
            "\u001b[2K   \u001b[90m━━━━━━━━━━━━━━━━━━━━━━━━━━━━━━━━━━━━━━━━\u001b[0m \u001b[32m1.9/1.9 MB\u001b[0m \u001b[31m16.5 MB/s\u001b[0m eta \u001b[36m0:00:00\u001b[0m\n",
            "\u001b[?25hInstalling collected packages: faker\n",
            "Successfully installed faker-37.1.0\n",
            "Collecting pycountry\n",
            "  Downloading pycountry-24.6.1-py3-none-any.whl.metadata (12 kB)\n",
            "Downloading pycountry-24.6.1-py3-none-any.whl (6.3 MB)\n",
            "\u001b[2K   \u001b[90m━━━━━━━━━━━━━━━━━━━━━━━━━━━━━━━━━━━━━━━━\u001b[0m \u001b[32m6.3/6.3 MB\u001b[0m \u001b[31m46.0 MB/s\u001b[0m eta \u001b[36m0:00:00\u001b[0m\n",
            "\u001b[?25hInstalling collected packages: pycountry\n",
            "Successfully installed pycountry-24.6.1\n"
          ]
        }
      ]
    },
    {
      "cell_type": "code",
      "source": [
        "import random\n",
        "import uuid\n",
        "from faker import Faker\n",
        "from collections import Counter\n",
        "import pycountry\n",
        "\n"
      ],
      "metadata": {
        "id": "S_5n0_reiqfj"
      },
      "execution_count": null,
      "outputs": []
    },
    {
      "cell_type": "markdown",
      "source": [
        "##Creatig Enviroment variables and connecting to AWS Database"
      ],
      "metadata": {
        "id": "KKDCIbkBjlmJ"
      }
    },
    {
      "cell_type": "code",
      "source": [
        "from google.colab import userdata\n",
        "import os\n",
        "import psycopg2\n",
        "\n",
        "\n",
        "\n",
        "# Get private dats from collab\n",
        "DB_USER = userdata.get(\"DB_USER\")\n",
        "DB_PASSWORD = userdata.get(\"DB_PASSWORD\")\n",
        "DB_HOST = userdata.get(\"DB_HOST\")\n",
        "DB_PORT = userdata.get(\"DB_PORT\")\n",
        "DB_NAME = userdata.get(\"DB_NAME\")\n",
        "\n",
        "# Datavase Connection\n",
        "DB_URL = f\"postgresql://{DB_USER}:{DB_PASSWORD}@{DB_HOST}:{DB_PORT}/{DB_NAME}\"\n",
        "\n",
        "conn = psycopg2.connect(DB_URL)\n",
        "cursor = conn.cursor()\n",
        "\n",
        "print(\"✅ Connected!\")\n"
      ],
      "metadata": {
        "colab": {
          "base_uri": "https://localhost:8080/"
        },
        "id": "mjh3wRbaiATe",
        "outputId": "31dc07da-e7ae-4aa3-a62d-d770642608b9"
      },
      "execution_count": null,
      "outputs": [
        {
          "output_type": "stream",
          "name": "stdout",
          "text": [
            "✅ Connected!\n"
          ]
        }
      ]
    },
    {
      "cell_type": "markdown",
      "source": [
        "## Creating Tables\n"
      ],
      "metadata": {
        "id": "ahtkMcOnjzug"
      }
    },
    {
      "cell_type": "code",
      "source": [
        "\n",
        "# Creating Tables\n",
        "#SQL QUERY\n",
        "create_tables_query = \"\"\"\n",
        "\n",
        "DROP TABLE IF EXISTS sales;\n",
        "DROP TABLE IF EXISTS customers;\n",
        "DROP TABLE IF EXISTS retailers;\n",
        "DROP TABLE IF EXISTS operating_expenses;\n",
        "\n",
        "\n",
        "-- Tabella retailers (rivenditori)\n",
        "CREATE TABLE IF NOT EXISTS retailers (\n",
        "    retailer_id SERIAL PRIMARY KEY,\n",
        "    name VARCHAR(100) NOT NULL,\n",
        "    country VARCHAR(50) NOT NULL,\n",
        "    city VARCHAR(50) NOT NULL,\n",
        "    commission_rate DECIMAL(5,2) CHECK (commission_rate BETWEEN 0 AND 100),\n",
        "    contact_email VARCHAR(100) UNIQUE\n",
        ");\n",
        "\n",
        "-- Tabella customers (clienti)\n",
        "CREATE TABLE IF NOT EXISTS customers (\n",
        "    customer_id SERIAL PRIMARY KEY,\n",
        "    name VARCHAR(100) NOT NULL,\n",
        "    country VARCHAR(50) NOT NULL,\n",
        "    city VARCHAR(50) NOT NULL,\n",
        "    email VARCHAR(100) UNIQUE,\n",
        "    phone VARCHAR(20)\n",
        ");\n",
        "\n",
        "-- Tabella sales (vendite)\n",
        "CREATE TABLE IF NOT EXISTS sales (\n",
        "    transaction_id SERIAL PRIMARY KEY,\n",
        "    sale_date DATE NOT NULL,\n",
        "    retailer_id INT REFERENCES retailers(retailer_id) ON DELETE CASCADE,\n",
        "    customer_id INT REFERENCES customers(customer_id) ON DELETE SET NULL,\n",
        "    product_category VARCHAR(50) NOT NULL,\n",
        "    product_name VARCHAR(100) NOT NULL,\n",
        "    serial_number VARCHAR(50) UNIQUE NOT NULL,\n",
        "    quantity INT CHECK (quantity > 0),\n",
        "    unit_price DECIMAL(10,2) CHECK (unit_price > 0),\n",
        "    discount DECIMAL(5,2) CHECK (discount BETWEEN 0 AND 100),\n",
        "    total_price DECIMAL(10,2) CHECK (total_price > 0)\n",
        ");\n",
        "\n",
        "-- Tabella operating_expenses (spese operative)\n",
        "CREATE TABLE IF NOT EXISTS operating_expenses (\n",
        "    expense_id SERIAL PRIMARY KEY,\n",
        "    category VARCHAR(50) NOT NULL,\n",
        "    amount DECIMAL(10,2) CHECK (amount > 0),\n",
        "    expense_date DATE NOT NULL,\n",
        "    description TEXT\n",
        ");\n",
        "\"\"\"\n",
        "\n",
        "# Esegui la creazione delle tabelle\n",
        "cursor.execute(create_tables_query)\n",
        "conn.commit()\n",
        "\n",
        "print(\"✅ TABLES CREATED\")\n",
        "\n",
        "\n",
        "\n"
      ],
      "metadata": {
        "colab": {
          "base_uri": "https://localhost:8080/"
        },
        "id": "Malj0miaj2HI",
        "outputId": "dd8798b7-b490-447f-b76a-65563fa1a0c0"
      },
      "execution_count": null,
      "outputs": [
        {
          "output_type": "stream",
          "name": "stdout",
          "text": [
            "✅ TABLES CREATED\n"
          ]
        }
      ]
    },
    {
      "cell_type": "markdown",
      "source": [
        "##Retatilers Data"
      ],
      "metadata": {
        "id": "p2-Madcwb21M"
      }
    },
    {
      "cell_type": "code",
      "source": [
        "fake = Faker()\n",
        "\n",
        "# Reatilers List\n",
        "retailers = [fake.name() for _ in range(20)]\n",
        "\n",
        "#Connection\n",
        "conn = psycopg2.connect(DB_URL)\n",
        "cursor = conn.cursor()\n",
        "\n",
        "for retailer in retailers:\n",
        "    #ID\n",
        "    retailer_id = retailers.index(retailer) + 1\n",
        "\n",
        "    #Contact\n",
        "    contact_email = fake.email()\n",
        "\n",
        "    #Commisinon and Experience\n",
        "    commission_rate = round(random.uniform(5, 15), 2)  # Commissione tra il 5% e il 15%\n",
        "    monthly_sales = round(random.uniform(10000, 500000), 2)  # Fatturato mensile ipotetico\n",
        "    years_in_business = random.randint(1, 15)\n",
        "\n",
        "\n",
        "    #Location\n",
        "    location = fake.location_on_land()\n",
        "    city = location[2]  # Città\n",
        "    country = location[3]\n",
        "    country = pycountry.countries.get(alpha_2 = country).name\n",
        "\n",
        "#\n",
        "#SQL QUERY\n",
        "    cursor.execute(\"\"\"\n",
        "  INSERT INTO retailers (\n",
        "        retailer_id, name, country,\n",
        "        city, commission_rate, contact_email)\n",
        "         VALUES (%s, %s, %s, %s, %s, %s)\n",
        "\"\"\", (\n",
        "    retailer_id, retailer, country,\n",
        "    city, commission_rate, contact_email,\n",
        "    ))\n",
        "conn.commit()\n",
        "\n",
        "print(\"✅ Reatailers table was corrected populated\")"
      ],
      "metadata": {
        "colab": {
          "base_uri": "https://localhost:8080/"
        },
        "id": "NXQjyp-gb2Yc",
        "outputId": "e8c435c8-a3a3-4264-9483-bd3ecf4a5d31"
      },
      "execution_count": null,
      "outputs": [
        {
          "output_type": "stream",
          "name": "stdout",
          "text": [
            "✅ Reatailers table was corrected populated\n"
          ]
        }
      ]
    },
    {
      "cell_type": "markdown",
      "source": [
        "Checking if the table was correctly populated\n",
        "\n"
      ],
      "metadata": {
        "id": "5IrpzT613c1m"
      }
    },
    {
      "cell_type": "code",
      "source": [
        "query = \"SELECT * FROM retailers LIMIT 20;\"\n",
        "cursor.execute(query)\n",
        "result = cursor.fetchall()\n",
        "for row in result:\n",
        "  print(row)\n",
        "\n"
      ],
      "metadata": {
        "colab": {
          "base_uri": "https://localhost:8080/"
        },
        "id": "a2VNFecA3VWd",
        "outputId": "202bc875-b9b8-4c98-884c-39c4b3357e71"
      },
      "execution_count": null,
      "outputs": [
        {
          "output_type": "stream",
          "name": "stdout",
          "text": [
            "(1, 'Bryan Phillips', 'Pakistan', 'Mianwali', Decimal('7.90'), 'raymond88@example.com')\n",
            "(2, 'Jennifer Adams', 'Russian Federation', 'Yashkino', Decimal('8.79'), 'morrisnicole@example.com')\n",
            "(3, 'Brian Johnson', 'Japan', 'Okegawa', Decimal('12.11'), 'robert86@example.com')\n",
            "(4, 'Kim Pena', 'France', 'Quimper', Decimal('5.07'), 'ewatson@example.net')\n",
            "(5, 'Suzanne Skinner', 'Germany', 'Zeitz', Decimal('14.22'), 'debra74@example.net')\n",
            "(6, 'Amy Williams', 'Brazil', 'Palmeira', Decimal('8.28'), 'tgilbert@example.org')\n",
            "(7, 'Marissa Parker', 'Somalia', 'Baki', Decimal('6.21'), 'iholmes@example.net')\n",
            "(8, 'Kim Landry', 'Montenegro', 'Budva', Decimal('11.62'), 'hollandjessica@example.net')\n",
            "(9, 'Barbara Ray', 'India', 'Sheoganj', Decimal('12.16'), 'amber83@example.net')\n",
            "(10, 'Kimberly Armstrong', 'Rwanda', 'Rwamagana', Decimal('6.51'), 'hspears@example.com')\n",
            "(11, 'Jessica Parker', 'Sri Lanka', 'Dehiwala-Mount Lavinia', Decimal('6.66'), 'wcooper@example.org')\n",
            "(12, 'Joseph Espinoza', 'Mexico', 'Progreso', Decimal('7.72'), 'clarkrobin@example.org')\n",
            "(13, 'Jessica Meza', 'Russian Federation', 'Kachkanar', Decimal('9.43'), 'samuelmckinney@example.com')\n",
            "(14, 'Chris Henry', 'Serbia', 'Sremska Mitrovica', Decimal('12.92'), 'gmarsh@example.com')\n",
            "(15, 'Robert Montgomery', 'India', 'Barbil', Decimal('12.96'), 'james19@example.net')\n",
            "(16, 'Chad Price', 'India', 'Jais', Decimal('6.20'), 'kennethhenderson@example.com')\n",
            "(17, 'Justin Harmon', 'United States', 'Rolla', Decimal('6.99'), 'cranealexander@example.net')\n",
            "(18, 'Christopher Perez', 'India', 'Pilkhua', Decimal('14.85'), 'gwalker@example.net')\n",
            "(19, 'Michelle Palmer', 'United Kingdom', 'Selby', Decimal('5.50'), 'perezvalerie@example.com')\n",
            "(20, 'Erika Stewart', 'Sudan', 'Ar Ruseris', Decimal('6.84'), 'roger17@example.com')\n"
          ]
        }
      ]
    },
    {
      "cell_type": "markdown",
      "source": [
        "##Customers Data"
      ],
      "metadata": {
        "id": "MxTAN2EpbwpF"
      }
    },
    {
      "cell_type": "code",
      "source": [
        "# Generazione dati anagrafici per i clienti\n",
        "customers = [fake.name() for _ in range(150)]\n",
        "\n",
        "#Connection\n",
        "conn = psycopg2.connect(DB_URL)\n",
        "cursor = conn.cursor()\n",
        "\n",
        "\n",
        "for customer in customers:\n",
        "     #ID\n",
        "    customer_id = customers.index(customer) + 1\n",
        "\n",
        "    #Contact\n",
        "    email = fake.email()\n",
        "    phone = fake.phone_number()[:10]\n",
        "\n",
        "\n",
        "\n",
        "    #Location\n",
        "    location = fake.location_on_land()\n",
        "    city = location[2]  # Città\n",
        "    country = location[3]\n",
        "    country = pycountry.countries.get(alpha_2 = country).name\n",
        "\n",
        "\n",
        "# inserting data into tables\n",
        "#SQL QUERY\n",
        "    cursor.execute(\"\"\"\n",
        "  INSERT INTO customers (\n",
        "        customer_id, name, country,\n",
        "        city, email, phone)\n",
        "         VALUES (%s, %s, %s, %s, %s, %s)\n",
        "\"\"\", (\n",
        "    customer_id, customer, country,\n",
        "    city, email, phone,\n",
        "    ))\n",
        "conn.commit()\n",
        "\n",
        "print(\"✅ Customers table was corrected populated\")"
      ],
      "metadata": {
        "colab": {
          "base_uri": "https://localhost:8080/"
        },
        "id": "ftp7rwFvb4yc",
        "outputId": "33941096-17b5-4c38-c418-fcec4d16b851"
      },
      "execution_count": null,
      "outputs": [
        {
          "output_type": "stream",
          "name": "stdout",
          "text": [
            "✅ Customers table was corrected populated\n"
          ]
        }
      ]
    },
    {
      "cell_type": "markdown",
      "source": [
        "Checking if the table was correctly populated\n",
        "\n"
      ],
      "metadata": {
        "id": "wjmnp-1d2tg1"
      }
    },
    {
      "cell_type": "code",
      "source": [
        "query = \"SELECT * FROM customers LIMIT 20;\"\n",
        "cursor.execute(query)\n",
        "result = cursor.fetchall()\n",
        "for row in result:\n",
        "  print(row)\n",
        "\n"
      ],
      "metadata": {
        "colab": {
          "base_uri": "https://localhost:8080/"
        },
        "id": "Gfcog7ox215N",
        "outputId": "61be155b-7bd8-4179-b28a-876ad67a1db7"
      },
      "execution_count": null,
      "outputs": [
        {
          "output_type": "stream",
          "name": "stdout",
          "text": [
            "(1, 'Ashley Jones', 'Libya', 'Ghat', 'trosales@example.com', '602-465-75')\n",
            "(2, 'Steven Collins', 'China', 'Pingyi', 'mmiles@example.org', '001-972-91')\n",
            "(3, 'Matthew Ray', 'United States', 'Lino Lakes', 'darellano@example.com', '(727)479-6')\n",
            "(4, 'Rebecca Ramos', 'Russian Federation', 'Danilov', 'paul62@example.com', '+1-319-897')\n",
            "(5, 'Phillip Huynh', 'Nicaragua', 'Jinotepe', 'jenkinsmonica@example.net', '373.517.46')\n",
            "(6, 'Andre Yates', 'India', 'Periyakulam', 'martha12@example.net', '276.455.29')\n",
            "(7, 'Heather Thomas', 'Chile', 'Ovalle', 'ashleyjoseph@example.org', '(847)563-3')\n",
            "(8, 'Jill Vance', 'Brazil', 'Resplendor', 'garciafrancisco@example.com', '001-679-32')\n",
            "(9, 'Jose Carrillo', 'Australia', 'Perth', 'catherine66@example.com', '001-469-61')\n",
            "(10, 'Fernando Simmons', 'Myanmar', 'Myawadi', 'stevenstammy@example.net', '234-860-67')\n",
            "(11, 'Grace Freeman', 'Egypt', 'Alexandria', 'mccoymark@example.com', '770-709-99')\n",
            "(12, 'Kyle Campbell', 'United Kingdom', 'Rutherglen', 'paulwong@example.org', '709-884-51')\n",
            "(13, 'David Nichols', 'United States', 'Lompoc', 'bruce85@example.com', '001-893-44')\n",
            "(14, 'Ronald Martin', 'United States', 'Collinwood', 'kathleen52@example.com', '206.955.53')\n",
            "(15, 'Joseph Becker', 'Japan', 'Fujioka', 'ztaylor@example.org', '(518)239-8')\n",
            "(16, 'Tina Bishop', 'Russian Federation', 'Solntsevo', 'alyssa02@example.com', '753-852-61')\n",
            "(17, 'Amy Morrow', 'Thailand', 'Nakhon Pathom', 'nicolecortez@example.com', '949.407.93')\n",
            "(18, 'Brandon Byrd', 'United States', 'Boston', 'irogers@example.com', '001-766-39')\n",
            "(19, 'Jocelyn Parker', 'United Kingdom', 'Leyland', 'youngjennifer@example.com', '+1-743-865')\n",
            "(20, 'Daniel Banks', 'Netherlands', 'Zeist', 'pmendoza@example.com', '542.342.61')\n"
          ]
        }
      ]
    },
    {
      "cell_type": "markdown",
      "source": [
        "##Generating Sales Data as realistic as possible\n"
      ],
      "metadata": {
        "id": "RKeEE2wUbFhN"
      }
    },
    {
      "cell_type": "markdown",
      "source": [
        "Querying the databse to extract Retailers and Customers to Generate Sales Table\n"
      ],
      "metadata": {
        "id": "OQy657c767_N"
      }
    },
    {
      "cell_type": "code",
      "source": [
        "#Cusotmers\n",
        "#SQL QUERY\n",
        "query = \"SELECT DISTINCT(customer_id) FROM customers;\"\n",
        "cursor.execute(query)\n",
        "customers_id = [row[0] for row in cursor.fetchall()]\n",
        "\n",
        "#Retailers\n",
        "#SQL QUERY\n",
        "query = \"SELECT DISTINCT(retailer_id) FROM retailers;\"\n",
        "cursor.execute(query)\n",
        "retailers_id = [row[0] for row in cursor.fetchall()]\n",
        "\n",
        "print(customers_id[:5],retailers_id[:5])"
      ],
      "metadata": {
        "colab": {
          "base_uri": "https://localhost:8080/"
        },
        "id": "_IOZfuJm603A",
        "outputId": "3b66bbfd-1dd0-45c2-dfca-0fb244125f1f"
      },
      "execution_count": null,
      "outputs": [
        {
          "output_type": "stream",
          "name": "stdout",
          "text": [
            "[116, 87, 71, 68, 51] [4, 10, 6, 14, 13]\n"
          ]
        }
      ]
    },
    {
      "cell_type": "code",
      "source": [
        "# Definizione dei prodotti (10 per categoria con prezzi reali)\n",
        "products = {\n",
        "    'Cardio': [\n",
        "        {'name': 'Treadmill', 'price': 2500.00},\n",
        "        {'name': 'Exercise Bike', 'price': 1200.00},\n",
        "        {'name': 'Rowing Machine', 'price': 1800.00},\n",
        "        {'name': 'Elliptical Trainer', 'price': 1500.00},\n",
        "        {'name': 'Stepper', 'price': 950.00},\n",
        "        {'name': 'Spin Bike', 'price': 1400.00},\n",
        "        {'name': 'Pro Treadmill', 'price': 3200.00},\n",
        "        {'name': 'Professional Rower', 'price': 2800.00},\n",
        "        {'name': 'Magnetic Bike', 'price': 1100.00},\n",
        "        {'name': 'Air Bike', 'price': 1600.00}\n",
        "    ],\n",
        "    'Strength': [\n",
        "        {'name': 'Flat Bench', 'price': 700.00},\n",
        "        {'name': 'Power Rack', 'price': 1200.00},\n",
        "        {'name': 'Leg Press Machine', 'price': 2000.00},\n",
        "        {'name': 'Abdominal Machine', 'price': 800.00},\n",
        "        {'name': 'Adjustable Dumbbells', 'price': 400.00},\n",
        "        {'name': 'Olympic Barbell', 'price': 350.00},\n",
        "        {'name': 'Smith Machine', 'price': 2800.00},\n",
        "        {'name': 'Chest Press Machine', 'price': 2200.00},\n",
        "        {'name': 'Lat Pulldown Machine', 'price': 1800.00},\n",
        "        {'name': 'Multipower Machine', 'price': 2600.00}\n",
        "    ],\n",
        "    'Accessories': [\n",
        "        {'name': 'Yoga Mat', 'price': 50.00},\n",
        "        {'name': 'Resistance Bands', 'price': 30.00},\n",
        "        {'name': 'Foam Roller', 'price': 40.00},\n",
        "        {'name': 'Jump Rope', 'price': 20.00},\n",
        "        {'name': 'Medicine Ball', 'price': 60.00},\n",
        "        {'name': 'Weight Plates', 'price': 100.00},\n",
        "        {'name': 'Kettlebell', 'price': 80.00},\n",
        "        {'name': 'Gym Gloves', 'price': 25.00},\n",
        "        {'name': 'Resistance Tubes', 'price': 45.00},\n",
        "        {'name': 'Aerobic Stepper', 'price': 90.00}\n",
        "    ]\n",
        "}\n",
        "\n",
        "# Traduzione dei metodi di pagamento\n",
        "payment_methods = ['Credit Card', 'Bank Transfer', 'Cash']\n",
        "\n",
        "def generate_gym_sales(n):\n",
        "    for _ in range(n):\n",
        "        category = random.choices(\n",
        "            list(products.keys()),\n",
        "            weights=[40, 35, 25],  # Più vendite per Cardio e Strength\n",
        "            k=1\n",
        "        )[0]\n",
        "        product_info = random.choices(\n",
        "            products[category],\n",
        "            weights=[10, 9, 8, 7, 6, 5, 5, 5, 5, 5],  # Alcuni prodotti vendono di più\n",
        "            k=1\n",
        "        )[0]\n",
        "        product_name = product_info['name']\n",
        "        original_price = product_info['price']\n",
        "\n",
        "        retailer_id = random.choices(\n",
        "            retailers_id,\n",
        "            weights=[15] * 5 + [5] * 15,  # 5 retailer con molte vendite, altri meno\n",
        "            k=1\n",
        "        )[0]\n",
        "\n",
        "        customer_id = random.choices(\n",
        "            customers_id,\n",
        "            weights=[10] * 30 + [5] * 120,  # 30 clienti più fedeli\n",
        "            k=1\n",
        "        )[0]\n",
        "\n",
        "        quantity = random.choices([1, 2, 3, 4, 5], weights=[70, 15, 10, 3, 2], k=1)[0]\n",
        "\n",
        "        discount_percentage = random.choice([0, 5, 10, 15, 20, 25])\n",
        "        discount_amount = round(original_price * (discount_percentage / 100), 2)\n",
        "        final_price = round((original_price - discount_amount) * quantity, 2)\n",
        "\n",
        "        sale_date = fake.date_between(start_date=\"-1y\", end_date=\"today\")\n",
        "        payment_method = random.choice(payment_methods)\n",
        "        transaction_id = str(uuid.uuid4())[:8]\n",
        "\n",
        "        # Inseriamo i dati direttamente nel database\n",
        "        cursor.execute(\"\"\"\n",
        "    INSERT INTO sales (\n",
        "        sale_date, retailer_id, customer_id,\n",
        "        product_category, product_name, serial_number,\n",
        "        quantity, unit_price, discount, total_price\n",
        "    ) VALUES (%s, %s, %s, %s, %s, %s, %s, %s, %s, %s)\n",
        "\"\"\", (\n",
        "    sale_date, retailer_id, customer_id,\n",
        "    category, product_name, transaction_id,\n",
        "    quantity, original_price, discount_percentage, final_price\n",
        "))\n",
        "\n",
        "        # Aggiorniamo il contatore dei prodotti più venduti\n",
        "        # product_trend[product_name] += quantity\n",
        "\n",
        "    # Commit per salvare le transazioni\n",
        "    conn.commit()\n",
        "\n",
        "# Generiamo 5000 vendite per simulare un anno di attività\n",
        "generate_gym_sales(5000)\n",
        "\n",
        "\n",
        "print(\"✅ Sells generated!\")"
      ],
      "metadata": {
        "colab": {
          "base_uri": "https://localhost:8080/"
        },
        "collapsed": true,
        "id": "NUmTQ-CyXW_1",
        "outputId": "d096c367-d54e-4c5b-c901-4ad0cdac41de"
      },
      "execution_count": null,
      "outputs": [
        {
          "output_type": "stream",
          "name": "stdout",
          "text": [
            "✅ Sells generated!\n"
          ]
        }
      ]
    },
    {
      "cell_type": "code",
      "source": [
        "query = \"SELECT * FROM sales LIMIT 20;\"\n",
        "cursor.execute(query)\n",
        "result = cursor.fetchall()\n",
        "for row in result:\n",
        "  print(row)\n"
      ],
      "metadata": {
        "id": "s4S_4f5w_dJk",
        "colab": {
          "base_uri": "https://localhost:8080/"
        },
        "outputId": "219e5583-e600-4c5e-fdb7-06156e22c408"
      },
      "execution_count": null,
      "outputs": [
        {
          "output_type": "stream",
          "name": "stdout",
          "text": [
            "(1, datetime.date(2024, 10, 23), 1, 25, 'Strength', 'Leg Press Machine', '5c83d942', 2, Decimal('2000.00'), Decimal('10.00'), Decimal('3600.00'))\n",
            "(2, datetime.date(2024, 9, 2), 20, 73, 'Strength', 'Olympic Barbell', 'e7f80160', 1, Decimal('350.00'), Decimal('5.00'), Decimal('332.50'))\n",
            "(3, datetime.date(2024, 4, 19), 1, 38, 'Accessories', 'Kettlebell', 'cc9d26a2', 1, Decimal('80.00'), Decimal('0.00'), Decimal('80.00'))\n",
            "(4, datetime.date(2024, 7, 8), 10, 113, 'Strength', 'Power Rack', '652b5152', 4, Decimal('1200.00'), Decimal('15.00'), Decimal('4080.00'))\n",
            "(5, datetime.date(2025, 3, 6), 5, 127, 'Cardio', 'Rowing Machine', '862b41c2', 1, Decimal('1800.00'), Decimal('25.00'), Decimal('1350.00'))\n",
            "(6, datetime.date(2024, 4, 19), 5, 77, 'Accessories', 'Weight Plates', '4359cfe0', 2, Decimal('100.00'), Decimal('10.00'), Decimal('180.00'))\n",
            "(7, datetime.date(2025, 2, 10), 10, 23, 'Strength', 'Power Rack', '1968a79a', 1, Decimal('1200.00'), Decimal('5.00'), Decimal('1140.00'))\n",
            "(8, datetime.date(2024, 6, 14), 12, 94, 'Accessories', 'Jump Rope', '2d666ec4', 1, Decimal('20.00'), Decimal('5.00'), Decimal('19.00'))\n",
            "(9, datetime.date(2025, 1, 15), 10, 9, 'Strength', 'Adjustable Dumbbells', '18b8a528', 1, Decimal('400.00'), Decimal('25.00'), Decimal('300.00'))\n",
            "(10, datetime.date(2024, 9, 5), 14, 22, 'Cardio', 'Magnetic Bike', 'bb65322e', 1, Decimal('1100.00'), Decimal('0.00'), Decimal('1100.00'))\n",
            "(11, datetime.date(2024, 11, 25), 6, 115, 'Accessories', 'Jump Rope', '2b092385', 1, Decimal('20.00'), Decimal('15.00'), Decimal('17.00'))\n",
            "(12, datetime.date(2024, 7, 21), 11, 142, 'Accessories', 'Resistance Bands', 'a72b1fdf', 2, Decimal('30.00'), Decimal('20.00'), Decimal('48.00'))\n",
            "(13, datetime.date(2025, 3, 16), 13, 60, 'Accessories', 'Weight Plates', '6bedd1a4', 1, Decimal('100.00'), Decimal('0.00'), Decimal('100.00'))\n",
            "(14, datetime.date(2025, 3, 22), 12, 25, 'Strength', 'Flat Bench', '39806ca2', 1, Decimal('700.00'), Decimal('10.00'), Decimal('630.00'))\n",
            "(15, datetime.date(2024, 4, 30), 13, 133, 'Accessories', 'Jump Rope', '54c56f75', 1, Decimal('20.00'), Decimal('10.00'), Decimal('18.00'))\n",
            "(16, datetime.date(2025, 1, 3), 9, 3, 'Accessories', 'Resistance Tubes', 'e3ccedef', 1, Decimal('45.00'), Decimal('25.00'), Decimal('33.75'))\n",
            "(17, datetime.date(2024, 11, 18), 2, 65, 'Cardio', 'Rowing Machine', 'c26bbb52', 1, Decimal('1800.00'), Decimal('0.00'), Decimal('1800.00'))\n",
            "(18, datetime.date(2024, 12, 23), 4, 89, 'Strength', 'Olympic Barbell', 'ad6c54d2', 3, Decimal('350.00'), Decimal('20.00'), Decimal('840.00'))\n",
            "(19, datetime.date(2024, 7, 28), 13, 126, 'Cardio', 'Stepper', '77310307', 1, Decimal('950.00'), Decimal('20.00'), Decimal('760.00'))\n",
            "(20, datetime.date(2025, 3, 17), 10, 70, 'Cardio', 'Rowing Machine', '7035f97d', 1, Decimal('1800.00'), Decimal('20.00'), Decimal('1440.00'))\n"
          ]
        }
      ]
    },
    {
      "cell_type": "markdown",
      "source": [
        "##Expenses Data"
      ],
      "metadata": {
        "id": "aHsNAjH7bkAE"
      }
    },
    {
      "cell_type": "code",
      "source": [
        "expense_categories = [\n",
        "    'Rent', 'Salaries', 'Marketing', 'Electricity & Utilities',\n",
        "    'Equipment Maintenance', 'Insurance', 'Software Licenses', 'Office Supplies'\n",
        "]\n",
        "\n",
        "for _ in range(50):  # Generiamo 50 spese\n",
        "    expense_date = fake.date_between(start_date=\"-1y\", end_date=\"today\")\n",
        "    category = random.choice(expense_categories)\n",
        "    amount = round(random.uniform(500, 15000), 2)\n",
        "    description = f\"{category} expense for {fake.month_name()} {fake.year()}\"\n",
        "\n",
        "    cursor.execute(\"\"\"\n",
        "    INSERT INTO operating_expenses (\n",
        "        category, amount, expense_date, description\n",
        "    ) VALUES (%s, %s, %s, %s)\n",
        "\"\"\", (\n",
        "    category, amount, expense_date, description\n",
        "))\n",
        "\n",
        "conn.commit()\n",
        "print(\"✅ Expenses generated!\")"
      ],
      "metadata": {
        "colab": {
          "base_uri": "https://localhost:8080/"
        },
        "id": "u2fbeFvmXyPP",
        "outputId": "b2ed5780-9849-4071-b69e-c8f390b8355f"
      },
      "execution_count": null,
      "outputs": [
        {
          "output_type": "stream",
          "name": "stdout",
          "text": [
            "✅ Expenses generated!\n"
          ]
        }
      ]
    },
    {
      "cell_type": "markdown",
      "source": [
        "Checking if the table was correctly populated\n",
        "\n"
      ],
      "metadata": {
        "id": "GmzKR_LN91Lk"
      }
    },
    {
      "cell_type": "code",
      "source": [
        "query = \"SELECT * FROM operating_expenses LIMIT 10;\"\n",
        "cursor.execute(query)\n",
        "result = cursor.fetchall()\n",
        "for row in result:\n",
        "  print(row)\n",
        "\n",
        "#CLosing Connection\n",
        "cursor.close()\n",
        "conn.close()"
      ],
      "metadata": {
        "colab": {
          "base_uri": "https://localhost:8080/"
        },
        "outputId": "69d205e4-5344-4dc6-b665-0c9b8d6fdc7b",
        "id": "pQmiND9a8hI0"
      },
      "execution_count": null,
      "outputs": [
        {
          "output_type": "stream",
          "name": "stdout",
          "text": [
            "(51, 'Software Licenses', Decimal('9481.63'), datetime.date(2025, 2, 5), 'Software Licenses expense for May 1982')\n",
            "(52, 'Salaries', Decimal('783.36'), datetime.date(2024, 9, 15), 'Salaries expense for December 2014')\n",
            "(53, 'Salaries', Decimal('13187.70'), datetime.date(2024, 12, 27), 'Salaries expense for April 2022')\n",
            "(54, 'Salaries', Decimal('5026.18'), datetime.date(2024, 11, 27), 'Salaries expense for September 1996')\n",
            "(55, 'Software Licenses', Decimal('6932.70'), datetime.date(2024, 8, 20), 'Software Licenses expense for September 1983')\n",
            "(56, 'Office Supplies', Decimal('5995.71'), datetime.date(2024, 9, 24), 'Office Supplies expense for April 2011')\n",
            "(57, 'Marketing', Decimal('3814.42'), datetime.date(2024, 9, 16), 'Marketing expense for December 2024')\n",
            "(58, 'Insurance', Decimal('9934.55'), datetime.date(2024, 8, 13), 'Insurance expense for June 2002')\n",
            "(59, 'Insurance', Decimal('8536.61'), datetime.date(2024, 9, 25), 'Insurance expense for August 2018')\n",
            "(60, 'Insurance', Decimal('4210.16'), datetime.date(2025, 1, 18), 'Insurance expense for October 1994')\n"
          ]
        }
      ]
    }
  ]
}